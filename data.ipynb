{
 "cells": [
  {
   "cell_type": "code",
   "execution_count": 1,
   "metadata": {},
   "outputs": [],
   "source": [
    "#imports\n",
    "import torch\n",
    "import torch.utils.data as data\n",
    "from torch.utils.data.dataset import Dataset\n",
    "import torchvision\n",
    "import torchvision.datasets as datasets\n",
    "import torchvision.transforms as transforms\n",
    "import numpy as np\n",
    "import random\n",
    "from PIL import Image\n",
    "import os\n",
    "import csv\n",
    "import glob\n",
    "\n",
    "import matplotlib.pyplot as plt"
   ]
  },
  {
   "cell_type": "markdown",
   "metadata": {},
   "source": [
    "## Load CIFAR-10"
   ]
  },
  {
   "cell_type": "markdown",
   "metadata": {},
   "source": [
    "Sources and references on CIFAR-10 and dataloeading with PYTORCH :\n",
    "\n",
    "- download : https://www.cs.toronto.edu/~kriz/cifar.html\n",
    "- https://www.youtube.com/watch?v=pBOfQTfDMVg&ab_channel=BinaryStudy\n",
    "- https://pytorch.org/tutorials/beginner/data_loading_tutorial.html\n"
   ]
  },
  {
   "cell_type": "code",
   "execution_count": 2,
   "metadata": {},
   "outputs": [],
   "source": [
    "_CIFAR_DATASET_DIR = './datasets/CIFAR'"
   ]
  },
  {
   "cell_type": "code",
   "execution_count": 3,
   "metadata": {},
   "outputs": [],
   "source": [
    "def unpickle(file):\n",
    "    import pickle\n",
    "    with open(file, 'rb') as fo:\n",
    "        dict = pickle.load(fo, encoding='bytes')\n",
    "    return dict"
   ]
  },
  {
   "cell_type": "code",
   "execution_count": 4,
   "metadata": {},
   "outputs": [
    {
     "name": "stdout",
     "output_type": "stream",
     "text": [
      "['data_batch_1', 'readme.html', 'batches.meta', 'data_batch_2', 'data_batch_5', 'test_batch', 'data_batch_4', 'data_batch_3']\n"
     ]
    }
   ],
   "source": [
    "# List all files and directories\n",
    "print(os.listdir(_CIFAR_DATASET_DIR))"
   ]
  },
  {
   "cell_type": "code",
   "execution_count": 5,
   "metadata": {},
   "outputs": [],
   "source": [
    "#get all batches\n",
    "data_batches = glob.glob(_CIFAR_DATASET_DIR + '/*data_batch*') # just a list of all files directories "
   ]
  },
  {
   "cell_type": "code",
   "execution_count": 6,
   "metadata": {},
   "outputs": [
    {
     "data": {
      "text/plain": [
       "['./datasets/CIFAR/data_batch_1',\n",
       " './datasets/CIFAR/data_batch_2',\n",
       " './datasets/CIFAR/data_batch_5',\n",
       " './datasets/CIFAR/data_batch_4',\n",
       " './datasets/CIFAR/data_batch_3']"
      ]
     },
     "execution_count": 6,
     "metadata": {},
     "output_type": "execute_result"
    }
   ],
   "source": [
    "data_batches"
   ]
  },
  {
   "cell_type": "code",
   "execution_count": 12,
   "metadata": {},
   "outputs": [],
   "source": [
    "batch_1 = unpickle(data_batches[0]) #same as bat = unpickle('./datasets/CIFAR/data_batch_1')\n"
   ]
  },
  {
   "cell_type": "code",
   "execution_count": 16,
   "metadata": {},
   "outputs": [
    {
     "data": {
      "text/plain": [
       "dict"
      ]
     },
     "execution_count": 16,
     "metadata": {},
     "output_type": "execute_result"
    }
   ],
   "source": [
    "type(batch_1)"
   ]
  },
  {
   "cell_type": "code",
   "execution_count": 17,
   "metadata": {},
   "outputs": [
    {
     "data": {
      "text/plain": [
       "4"
      ]
     },
     "execution_count": 17,
     "metadata": {},
     "output_type": "execute_result"
    }
   ],
   "source": [
    "len(batch_1)"
   ]
  },
  {
   "cell_type": "code",
   "execution_count": 18,
   "metadata": {},
   "outputs": [
    {
     "data": {
      "text/plain": [
       "dict_keys([b'batch_label', b'labels', b'data', b'filenames'])"
      ]
     },
     "execution_count": 18,
     "metadata": {},
     "output_type": "execute_result"
    }
   ],
   "source": [
    "batch_1.keys()"
   ]
  },
  {
   "cell_type": "markdown",
   "metadata": {},
   "source": [
    "> \"b'data'\" : images"
   ]
  },
  {
   "cell_type": "code",
   "execution_count": 19,
   "metadata": {},
   "outputs": [
    {
     "data": {
      "text/plain": [
       "array([[ 59,  43,  50, ..., 140,  84,  72],\n",
       "       [154, 126, 105, ..., 139, 142, 144],\n",
       "       [255, 253, 253, ...,  83,  83,  84],\n",
       "       ...,\n",
       "       [ 71,  60,  74, ...,  68,  69,  68],\n",
       "       [250, 254, 211, ..., 215, 255, 254],\n",
       "       [ 62,  61,  60, ..., 130, 130, 131]], dtype=uint8)"
      ]
     },
     "execution_count": 19,
     "metadata": {},
     "output_type": "execute_result"
    }
   ],
   "source": [
    "batch_1[b'data']"
   ]
  },
  {
   "cell_type": "code",
   "execution_count": 20,
   "metadata": {},
   "outputs": [
    {
     "data": {
      "text/plain": [
       "(10000, 3072)"
      ]
     },
     "execution_count": 20,
     "metadata": {},
     "output_type": "execute_result"
    }
   ],
   "source": [
    "batch_1[b'data'].shape"
   ]
  },
  {
   "cell_type": "markdown",
   "metadata": {},
   "source": [
    "> - 10_000 images, chaque image (= une ligne) a 3072 pixels ( = 3 * 1024 = 1024 Red + 1024 Green + 1024 Blue)"
   ]
  },
  {
   "cell_type": "code",
   "execution_count": 21,
   "metadata": {},
   "outputs": [
    {
     "data": {
      "text/plain": [
       "array([ 59,  43,  50, ..., 140,  84,  72], dtype=uint8)"
      ]
     },
     "execution_count": 21,
     "metadata": {},
     "output_type": "execute_result"
    }
   ],
   "source": [
    "# 1ère image \n",
    "batch_1[b'data'][0]"
   ]
  },
  {
   "cell_type": "code",
   "execution_count": 22,
   "metadata": {},
   "outputs": [
    {
     "data": {
      "text/plain": [
       "(3072,)"
      ]
     },
     "execution_count": 22,
     "metadata": {},
     "output_type": "execute_result"
    }
   ],
   "source": [
    "batch_1[b'data'][0].shape"
   ]
  },
  {
   "cell_type": "markdown",
   "metadata": {},
   "source": [
    "> to visualize an image we have to reshape it : \n",
    "> here everything is flattened : the image should be a superposition of the 3 colors channels, each of shape 32 * 32 = 1024, so we : \n",
    "> - reshape (3, 32, 32)\n",
    "> - transpose (32, 32, 3) "
   ]
  },
  {
   "cell_type": "code",
   "execution_count": 27,
   "metadata": {},
   "outputs": [],
   "source": [
    "first_image = batch_1[b'data'][32].reshape(3, 32, 32).transpose(1, 2, 0)"
   ]
  },
  {
   "cell_type": "code",
   "execution_count": 42,
   "metadata": {},
   "outputs": [
    {
     "data": {
      "text/plain": [
       "array([[[ 50,  64],\n",
       "        [ 51,  63]],\n",
       "\n",
       "       [[ 86, 107],\n",
       "        [ 92, 110]]], dtype=uint8)"
      ]
     },
     "execution_count": 42,
     "metadata": {},
     "output_type": "execute_result"
    }
   ],
   "source": [
    "first_image[:2, :2, :2]\n",
    "#1st column = red, 2nd column = green, 3rd column = blue"
   ]
  },
  {
   "cell_type": "markdown",
   "metadata": {},
   "source": [
    "## Visualization "
   ]
  },
  {
   "cell_type": "code",
   "execution_count": 28,
   "metadata": {},
   "outputs": [
    {
     "data": {
      "text/plain": [
       "<matplotlib.image.AxesImage at 0x16b996240>"
      ]
     },
     "execution_count": 28,
     "metadata": {},
     "output_type": "execute_result"
    },
    {
     "data": {
      "image/png": "[encoded data removed]",
      "text/plain": [
       "<Figure size 640x480 with 1 Axes>"
      ]
     },
     "metadata": {},
     "output_type": "display_data"
    }
   ],
   "source": [
    "plt.imshow(first_image)"
   ]
  },
  {
   "cell_type": "markdown",
   "metadata": {},
   "source": [
    "## Rotation "
   ]
  },
  {
   "cell_type": "code",
   "execution_count": 7,
   "metadata": {},
   "outputs": [],
   "source": [
    "\"\"\"\n",
    "Takes in an image and a rotation. Returns the the image with the rotation applied.\n",
    "\"\"\"\n",
    "def rotate_img(img, rot):\n",
    "    if rot == 0: # 0 degrees rotation\n",
    "        return img\n",
    "    elif rot == 90: # 90 degrees rotation\n",
    "        return np.flipud(np.transpose(img, (1,0,2)))\n",
    "    elif rot == 180: # 90 degrees rotation\n",
    "        return np.fliplr(np.flipud(img))\n",
    "    elif rot == 270: # 270 degrees rotation / or -90\n",
    "        return np.transpose(np.flipud(img), (1,0,2))\n",
    "    else:\n",
    "        raise ValueError('rotation should be 0, 90, 180, or 270 degrees')"
   ]
  },
  {
   "cell_type": "code",
   "execution_count": 30,
   "metadata": {},
   "outputs": [],
   "source": [
    "test = rotate_img(first_image, 90)"
   ]
  },
  {
   "cell_type": "code",
   "execution_count": 33,
   "metadata": {},
   "outputs": [
    {
     "data": {
      "image/png": "[encoded data removed]",
      "text/plain": [
       "<Figure size 1500x500 with 4 Axes>"
      ]
     },
     "metadata": {},
     "output_type": "display_data"
    }
   ],
   "source": [
    "rotations = [0, 90, 180, 270]\n",
    "rotated_images = [rotate_img(first_image, rot) for rot in rotations]\n",
    "\n",
    "fig, axes = plt.subplots(1, len(rotations), figsize=(15, 5))\n",
    "\n",
    "for ax, img, rot in zip(axes, rotated_images, rotations):\n",
    "    ax.imshow(img)\n",
    "    ax.set_title(f\"Rotation: {rot}°\")\n",
    "    ax.axis(\"off\")  # Turn off axis labels\n",
    "\n",
    "plt.tight_layout()\n",
    "plt.show()\n",
    "\n",
    "    "
   ]
  },
  {
   "cell_type": "markdown",
   "metadata": {},
   "source": [
    "> les rotations sont définies dans le sens trigonométriques "
   ]
  },
  {
   "cell_type": "markdown",
   "metadata": {},
   "source": [
    "## Récupération des labels "
   ]
  },
  {
   "cell_type": "code",
   "execution_count": 60,
   "metadata": {},
   "outputs": [
    {
     "name": "stdout",
     "output_type": "stream",
     "text": [
      "Batches meta type :  <class 'dict'>\n",
      "Batches meta length :  3\n",
      "Batches meta keys :  dict_keys([b'num_cases_per_batch', b'label_names', b'num_vis'])\n"
     ]
    }
   ],
   "source": [
    "batches_meta = glob.glob(_CIFAR_DATASET_DIR + '/batches.meta')\n",
    "batches_meta_ = unpickle(batches_meta[0])\n",
    "\n",
    "print(\"Batches meta type : \", type(batches_meta_))\n",
    "print(\"Batches meta length : \", len(batches_meta_))\n",
    "print(\"Batches meta keys : \", batches_meta_.keys())\n",
    "\n",
    "labels_names = batches_meta_[b'label_names']\n"
   ]
  },
  {
   "cell_type": "code",
   "execution_count": 65,
   "metadata": {},
   "outputs": [
    {
     "data": {
      "text/plain": [
       "1"
      ]
     },
     "execution_count": 65,
     "metadata": {},
     "output_type": "execute_result"
    }
   ],
   "source": [
    "index_first_image = batch_1[b'labels'][32]\n",
    "index_first_image"
   ]
  },
  {
   "cell_type": "code",
   "execution_count": 66,
   "metadata": {},
   "outputs": [
    {
     "data": {
      "text/plain": [
       "b'automobile'"
      ]
     },
     "execution_count": 66,
     "metadata": {},
     "output_type": "execute_result"
    }
   ],
   "source": [
    "labels_names[1]"
   ]
  },
  {
   "cell_type": "markdown",
   "metadata": {},
   "source": [
    "> on a bien une automobile "
   ]
  },
  {
   "cell_type": "markdown",
   "metadata": {},
   "source": [
    "## Class CIFAR(Dataset)"
   ]
  },
  {
   "cell_type": "code",
   "execution_count": 11,
   "metadata": {},
   "outputs": [],
   "source": [
    "import torch\n",
    "from torch.utils.data import Dataset, DataLoader\n",
    "from torchvision import transforms\n",
    "import numpy as np\n",
    "import random\n",
    "\n",
    "# Denormalization class\n",
    "class Denormalize(object):\n",
    "    def __init__(self, mean, std):\n",
    "        self.mean = mean\n",
    "        self.std = std\n",
    "\n",
    "    def __call__(self, tensor):\n",
    "        for t, m, s in zip(tensor, self.mean, self.std):\n",
    "            t.mul_(s).add_(m)\n",
    "        return tensor\n",
    "\n",
    "\n",
    "#on considère qu'on utilise la classe sur des dataset directement (Pytorch), donc on va load les données avec Pytorch\n",
    "class CIFAR(Dataset):\n",
    "    def __init__(self, dataset, transform=None, unsupervised=True):\n",
    "        self.dataset = dataset\n",
    "        self.transform = transform\n",
    "        self.unsupervised = unsupervised\n",
    "        \n",
    "        # Define the mean and std for normalization\n",
    "        self.mean_pix = [125.3 / 255.0, 123.0 / 255.0, 113.9 / 255.0]\n",
    "        self.std_pix = [63.0 / 255.0, 62.1 / 255.0, 66.7 / 255.0]\n",
    "\n",
    "        # Define transformations\n",
    "        self.transform = transforms.Compose([\n",
    "            transforms.ToTensor(),\n",
    "            transforms.Normalize(mean=self.mean_pix, std=self.std_pix),\n",
    "        ])\n",
    "        self.inv_transform = transforms.Compose([\n",
    "            Denormalize(self.mean_pix, self.std_pix),\n",
    "            lambda x: x.numpy() * 255.0,\n",
    "            lambda x: x.transpose(1, 2, 0).astype(np.uint8),\n",
    "        ])\n",
    "\n",
    "    def __getitem__(self, index):\n",
    "        img, label = self.dataset[index]\n",
    "\n",
    "        if self.unsupervised:\n",
    "            # Generate rotated images\n",
    "            rotated_imgs = [\n",
    "                self.transform(img),\n",
    "                self.transform(rotate_img(img, 90).copy()),\n",
    "                self.transform(rotate_img(img, 180).copy()),\n",
    "                self.transform(rotate_img(img, 270).copy()),\n",
    "            ]\n",
    "            # Generate the rotation labels\n",
    "            rotation_labels = torch.LongTensor([0, 1, 2, 3])\n",
    "            return torch.stack(rotated_imgs, dim=0), rotation_labels\n",
    "        else:\n",
    "            # In supervised mode, no rotations \n",
    "            img = self.transform(img)\n",
    "            return img, label\n",
    "\n",
    "    def __len__(self):\n",
    "        return len(self.dataset)\n",
    "\n",
    "#on n'a pas besoin de créer une nouvelle classe Dataloader\n",
    "def get_dataloader(dataset, batch_size=1, unsupervised=True, num_workers=0, shuffle=True):\n",
    "    # Define transforms\n",
    "    mean_pix = [125.3 / 255.0, 123.0 / 255.0, 113.9 / 255.0]\n",
    "    std_pix = [63.0 / 255.0, 62.1 / 255.0, 66.7 / 255.0]\n",
    "    transform = transforms.Compose([\n",
    "        transforms.ToTensor(),\n",
    "        transforms.Normalize(mean=mean_pix, std=std_pix),\n",
    "    ])\n",
    "\n",
    "    # Create the dataset\n",
    "    rotated_dataset = CIFAR(dataset=dataset, transform=transform, unsupervised=unsupervised)\n",
    "\n",
    "    # Custom collate function for unsupervised mode\n",
    "    def custom_collate_fn(batch):\n",
    "        if unsupervised:\n",
    "            images, labels = zip(*batch)\n",
    "            images = torch.cat(images, dim=0)  # Flatten the rotated images\n",
    "            labels = torch.cat(labels, dim=0)  # Flatten the labels\n",
    "            return images, labels\n",
    "        else:\n",
    "            return torch.utils.data.dataloader.default_collate(batch)\n",
    "\n",
    "    # Create DataLoader\n",
    "    data_loader = DataLoader(\n",
    "        dataset=rotated_dataset,\n",
    "        batch_size=batch_size,\n",
    "        shuffle=shuffle,\n",
    "        num_workers=num_workers,\n",
    "        collate_fn=custom_collate_fn if unsupervised else None,\n",
    "    )\n",
    "    \n",
    "\n",
    "    return data_loader # return images, labels\n"
   ]
  },
  {
   "cell_type": "code",
   "execution_count": null,
   "metadata": {},
   "outputs": [],
   "source": []
  },
  {
   "cell_type": "markdown",
   "metadata": {},
   "source": [
    "## Checks of Dataset and Dataloader : shapes, vizualisation, retrival of original images..."
   ]
  },
  {
   "cell_type": "code",
   "execution_count": 9,
   "metadata": {},
   "outputs": [
    {
     "name": "stdout",
     "output_type": "stream",
     "text": [
      "Files already downloaded and verified\n"
     ]
    }
   ],
   "source": [
    "from torchvision.datasets import CIFAR10\n",
    "\n",
    "# Load CIFAR-10 dataset\n",
    "train_dataset = CIFAR10(root=\"./data\", train=True, download=True)"
   ]
  },
  {
   "cell_type": "code",
   "execution_count": 12,
   "metadata": {},
   "outputs": [
    {
     "name": "stdout",
     "output_type": "stream",
     "text": [
      "Images batch shape: torch.Size([128, 3, 32, 32])\n",
      "Labels batch shape: torch.Size([128])\n"
     ]
    }
   ],
   "source": [
    "# Get DataLoader for unsupervised mode\n",
    "train_loader = get_dataloader(train_dataset, batch_size=32, unsupervised=True, shuffle=True)\n",
    "\n",
    "# Iterate through the DataLoader\n",
    "for images, rotation_labels in train_loader:\n",
    "    print(f\"Images batch shape: {images.shape}\")  # Should be [128, 3, 32, 32]\n",
    "    print(f\"Labels batch shape: {rotation_labels.shape}\")  # Should be [128]\n",
    "    break"
   ]
  },
  {
   "cell_type": "code",
   "execution_count": 33,
   "metadata": {},
   "outputs": [
    {
     "name": "stderr",
     "output_type": "stream",
     "text": [
      "Clipping input data to the valid range for imshow with RGB data ([0..1] for floats or [0..255] for integers). Got range [-1.8936508..2.1256037].\n"
     ]
    },
    {
     "name": "stdout",
     "output_type": "stream",
     "text": [
      "Batch index: 0\n",
      "Images shape: torch.Size([128, 3, 32, 32])\n",
      "Labels shape: torch.Size([128])\n",
      "First image shape: torch.Size([3, 32, 32])\n",
      "First label: 0\n"
     ]
    },
    {
     "data": {
      "image/png": "[encoded data removed]",
      "text/plain": [
       "<Figure size 640x480 with 1 Axes>"
      ]
     },
     "metadata": {},
     "output_type": "display_data"
    }
   ],
   "source": [
    "# Iterate through the DataLoader\n",
    "for batch_idx, (images, rotation_labels) in enumerate(train_loader):\n",
    "    print(f\"Batch index: {batch_idx}\")\n",
    "    print(f\"Images shape: {images.shape}\")  # Shape: [batch_size, channels, height, width]\n",
    "    print(f\"Labels shape: {rotation_labels.shape}\")  # Shape: [batch_size]\n",
    "    \n",
    "    # Access the first image in the batch\n",
    "    first_image = images[0]\n",
    "    first_label = rotation_labels[0]\n",
    "    print(f\"First image shape: {first_image.shape}\")  # Shape: [channels, height, width]\n",
    "    print(f\"First label: {first_label}\")\n",
    "    \n",
    "    # Visualize the image (if needed)\n",
    "    plt.imshow(first_image.permute(1, 2, 0))  # Convert from [C, H, W] to [H, W, C] for display\n",
    "    plt.title(f\"Label: {first_label}\")\n",
    "    plt.show()\n",
    "    \n",
    "    # Break to avoid loading all batches\n",
    "    break\n"
   ]
  },
  {
   "cell_type": "markdown",
   "metadata": {},
   "source": [
    "## Retrieve original images"
   ]
  },
  {
   "cell_type": "code",
   "execution_count": 32,
   "metadata": {},
   "outputs": [
    {
     "data": {
      "image/png": "[encoded data removed]",
      "text/plain": [
       "<Figure size 1200x300 with 4 Axes>"
      ]
     },
     "metadata": {},
     "output_type": "display_data"
    }
   ],
   "source": [
    "# Assume train_loader is already created and outputs shape [batch_size*4, channels, height, width]\n",
    "images, rotation_labels = next(iter(train_loader))  # Fetch a batch of data\n",
    "\n",
    "# Number of images per batch and rotations per image\n",
    "batch_size = images.shape[0] // 4\n",
    "\n",
    "# Reshape to group by original images: [batch_size, 4, channels, height, width]\n",
    "grouped_images = images.view(batch_size, 4, *images.shape[1:])  # Now each entry has 4 rotations\n",
    "\n",
    "# De-transform and visualize each set of rotations for one image\n",
    "for i in range(batch_size):  # Iterate over each original image in the batch\n",
    "    fig, axes = plt.subplots(1, 4, figsize=(12, 3))\n",
    "    \n",
    "    for j in range(4):  # Iterate over the 4 rotated versions of the image\n",
    "        # De-transform the image\n",
    "        de_transformed_image = train_loader.dataset.inv_transform(grouped_images[i, j])\n",
    "\n",
    "        # Visualize\n",
    "        axes[j].imshow(de_transformed_image)  # Ensure [H, W, C]\n",
    "        axes[j].set_title(f\"Rotation {j * 90}°\")\n",
    "        axes[j].axis(\"off\")\n",
    "    \n",
    "    plt.suptitle(f\"Original Image {i + 1} with Rotations\")\n",
    "    plt.show()\n",
    "\n",
    "    # Break after visualizing the first image in the batch (optional)\n",
    "    break\n"
   ]
  },
  {
   "cell_type": "code",
   "execution_count": null,
   "metadata": {},
   "outputs": [],
   "source": []
  },
  {
   "cell_type": "code",
   "execution_count": null,
   "metadata": {},
   "outputs": [],
   "source": []
  },
  {
   "cell_type": "code",
   "execution_count": null,
   "metadata": {},
   "outputs": [],
   "source": []
  },
  {
   "cell_type": "markdown",
   "metadata": {},
   "source": [
    "# ESSAIS "
   ]
  },
  {
   "cell_type": "code",
   "execution_count": null,
   "metadata": {},
   "outputs": [],
   "source": [
    "### Dans la class CIFAR(Dataset) on iplémente __init__, __getitem__ et __len__ \n",
    "\n",
    "class Denormalize(object):\n",
    "    def __init__(self, mean, std):\n",
    "        self.mean = mean\n",
    "        self.std = std\n",
    "\n",
    "    def __call__(self, tensor):\n",
    "        for t, m, s in zip(tensor, self.mean, self.std):\n",
    "            t.mul_(s).add_(m)\n",
    "        return tensor\n",
    "\n",
    "class CIFAR(Dataset):\n",
    "    def __init__(self, data_dir, split, num_imgs_per_cat=None):\n",
    "        \"\"\"\n",
    "        Args:\n",
    "            data_dir (string): Directory with all the images\n",
    "        \"\"\"\n",
    "        self.data_dir = data_dir\n",
    "        self.image_list = glob.glob(data_dir)\n",
    "        self.data_len = len(self.image_list)\n",
    "        self.split = split.lower()\n",
    "\n",
    "        # The num_imgs_per_cats input argument specifies the number\n",
    "        # of training examples per category that would be used.\n",
    "        # This input argument was introduced in order to be able\n",
    "        # to use less annotated examples than what are available\n",
    "        # in a semi-superivsed experiment. By default all the \n",
    "        # available training examplers per category are being used.\n",
    "        #TODO: implement fct that uses num_imgs_per_cat\n",
    "        self.num_imgs_per_cat = num_imgs_per_cat \n",
    "        \n",
    "        #pre-processing\n",
    "        self.mean_pix = [x / 255.0 for x in [125.3, 123.0, 113.9]]\n",
    "        self.std_pix = [x / 255.0 for x in [63.0, 62.1, 66.7]]\n",
    "        \n",
    "        transform = []\n",
    "        #if (split != 'test'):\n",
    "        #    transform.append(transforms.RandomCrop(32, padding=4))\n",
    "        #    transform.append(transforms.RandomHorizontalFlip())\n",
    "        \n",
    "        transform.append(lambda x: np.asarray(x))\n",
    "        self.transform = transforms.Compose(transform)\n",
    "        \n",
    "        mean_pix  = self.dataset.mean_pix\n",
    "        std_pix   = self.dataset.std_pix\n",
    "        self.transform = transforms.Compose([\n",
    "            transforms.ToTensor(),\n",
    "            transforms.Normalize(mean=mean_pix, std=std_pix)\n",
    "        ])\n",
    "        self.inv_transform = transforms.Compose([\n",
    "            Denormalize(mean_pix, std_pix),\n",
    "            lambda x: x.numpy() * 255.0,\n",
    "            lambda x: x.transpose(1,2,0).astype(np.uint8),\n",
    "        ])\n",
    "        \n",
    "        \n",
    "    def __getitem__(self, index):\n",
    "        img, label = self.data[index]\n",
    "        return img, int(label)\n",
    "\n",
    "    def __len__(self):\n",
    "        return len(self.data)\n",
    "\n"
   ]
  },
  {
   "cell_type": "code",
   "execution_count": null,
   "metadata": {},
   "outputs": [],
   "source": []
  },
  {
   "cell_type": "code",
   "execution_count": null,
   "metadata": {},
   "outputs": [],
   "source": []
  }
 ],
 "metadata": {
  "kernelspec": {
   "display_name": "myenv",
   "language": "python",
   "name": "python3"
  },
  "language_info": {
   "codemirror_mode": {
    "name": "ipython",
    "version": 3
   },
   "file_extension": ".py",
   "mimetype": "text/x-python",
   "name": "python",
   "nbconvert_exporter": "python",
   "pygments_lexer": "ipython3",
   "version": "3.12.7"
  }
 },
 "nbformat": 4,
 "nbformat_minor": 2
}
